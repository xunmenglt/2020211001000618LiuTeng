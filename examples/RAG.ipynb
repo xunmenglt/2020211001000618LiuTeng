{
  "cells": [
    {
      "cell_type": "markdown",
      "id": "1972a352-a0e3-41b7-81dc-dd4ae2b890c3",
      "metadata": {
        "id": "1972a352-a0e3-41b7-81dc-dd4ae2b890c3"
      },
      "source": [
        "## Retrieval-Augmented Generation (RAG)"
      ]
    },
    {
      "cell_type": "markdown",
      "id": "05d999bc-83a3-454f-a8a4-44cbff1fcedc",
      "metadata": {
        "id": "05d999bc-83a3-454f-a8a4-44cbff1fcedc"
      },
      "source": [
        "<a target=\"_blank\" href=\"https://colab.research.google.com/github/microsoft/LLMLingua/blob/main/examples/RAG.ipynb\">\n",
        "  <img src=\"https://colab.research.google.com/assets/colab-badge.svg\" alt=\"Open In Colab\"/>\n",
        "</a>"
      ]
    },
    {
      "cell_type": "markdown",
      "id": "fe3ed1ce-d38d-4048-9db6-9707b55dc642",
      "metadata": {
        "id": "fe3ed1ce-d38d-4048-9db6-9707b55dc642"
      },
      "source": [
        "Retrieval-Augmented Generation (RAG) is a powerful and popular technique that applies specialized knowledge to large language models (LLMs). However, traditional RAG methods tend to have increasingly long prompts, sometimes exceeding **40k**, which can result in high financial and latency costs. Moreover, the decreased information density within the prompts can lead to performance degradation in LLMs, such as the \"lost in the middle\" issue."
      ]
    },
    {
      "cell_type": "markdown",
      "id": "ae003ead-2f07-44a4-b641-2e33be920dd9",
      "metadata": {
        "id": "ae003ead-2f07-44a4-b641-2e33be920dd9"
      },
      "source": [
        "<center><img width=\"800\" src=\"https://github.com/microsoft/LLMLingua/blob/main/images/LongLLMLingua_Motivation.png?raw=1\"></center>"
      ]
    },
    {
      "cell_type": "markdown",
      "id": "0b39b33f-5860-4825-8f00-d60aed0dce86",
      "metadata": {
        "id": "0b39b33f-5860-4825-8f00-d60aed0dce86"
      },
      "source": [
        "To address this, we propose [**LongLLMLingua**](https://aclanthology.org/2024.acl-long.91/), which specifically tackles the low information density problem in long context scenarios via prompt compression, making it particularly suitable for RAG tasks. The main ideas involve a two-stage compression process, as shown by the  <font color='red'>**red line**</font>, which significantly improves the original curve:\n",
        "\n",
        "- Coarse-grained compression through document-level perplexity;\n",
        "- Fine-grained compression of the remaining text using token perplexity;"
      ]
    },
    {
      "cell_type": "markdown",
      "id": "c748f877-4bbf-443c-b72b-332be1df6f1a",
      "metadata": {
        "id": "c748f877-4bbf-443c-b72b-332be1df6f1a"
      },
      "source": [
        "Instead of fighting against positional effects, we aim to utilize them to our advantage through document reordering, as illustrated by the  <font color='green'>**green line**</font>. In this approach, the most critical passages are placed at the beginning and the end of the context. Furthermore, the entire process becomes more **cost-effective and faster** since it only requires handling **1/4** of the original context."
      ]
    },
    {
      "cell_type": "markdown",
      "id": "18422597-687a-43aa-a6ed-ce6244d0eb55",
      "metadata": {
        "id": "18422597-687a-43aa-a6ed-ce6244d0eb55"
      },
      "source": [
        "### NaturalQuestions Multi-document QA"
      ]
    },
    {
      "cell_type": "markdown",
      "id": "51a7accd-5ec2-4ed2-9582-1afdb441a998",
      "metadata": {
        "id": "51a7accd-5ec2-4ed2-9582-1afdb441a998"
      },
      "source": [
        "Next, we will demonstrate the use of LongLLMLingua on the NaturalQuestions dataset, which effectively alleviates the \"lost in the middle\" issue. This dataset closely resembles real-world RAG scenarios, as it first employs the Contriever retrieval system to recall 20 relevant documents (including 1 ground truth and 19 related documents), and then answers the respective questions based on the prompts composed of these 20 documents.\n",
        "\n",
        "The original dataset can be found in https://github.com/nelson-liu/lost-in-the-middle/tree/main/qa_data."
      ]
    },
    {
      "cell_type": "code",
      "execution_count": 1,
      "id": "a970a901-11bd-43af-a8bc-7fb2fc6a1a07",
      "metadata": {
        "colab": {
          "base_uri": "https://localhost:8080/"
        },
        "id": "a970a901-11bd-43af-a8bc-7fb2fc6a1a07",
        "outputId": "cda89cd6-f97d-4e9c-b696-9429cb5a84a8"
      },
      "outputs": [
        {
          "output_type": "stream",
          "name": "stdout",
          "text": [
            "fatal: destination path 'lost-in-the-middle' already exists and is not an empty directory.\n",
            "Obtaining file:///content/lost-in-the-middle\n",
            "  Installing build dependencies ... \u001b[?25l\u001b[?25hdone\n",
            "  Checking if build backend supports build_editable ... \u001b[?25l\u001b[?25hdone\n",
            "  Getting requirements to build editable ... \u001b[?25l\u001b[?25hdone\n",
            "  Preparing editable metadata (pyproject.toml) ... \u001b[?25l\u001b[?25hdone\n",
            "Requirement already satisfied: xopen in /usr/local/lib/python3.10/dist-packages (from lost_in_the_middle==0.0.0) (2.0.2)\n",
            "Requirement already satisfied: isal>=1.6.1 in /usr/local/lib/python3.10/dist-packages (from xopen->lost_in_the_middle==0.0.0) (1.7.1)\n",
            "Requirement already satisfied: zlib-ng>=0.4.1 in /usr/local/lib/python3.10/dist-packages (from xopen->lost_in_the_middle==0.0.0) (0.5.1)\n",
            "Building wheels for collected packages: lost_in_the_middle\n",
            "  Building editable for lost_in_the_middle (pyproject.toml) ... \u001b[?25l\u001b[?25hdone\n",
            "  Created wheel for lost_in_the_middle: filename=lost_in_the_middle-0.0.0-0.editable-py3-none-any.whl size=4584 sha256=4499dc438a7ff28c67c522dca07d48f8e65f9b216293d70c74ba3319a004712d\n",
            "  Stored in directory: /tmp/pip-ephem-wheel-cache-ysg013kw/wheels/7c/ea/c2/8388b6e7791081a662a929a1b75ad30754d1a123421c304827\n",
            "Successfully built lost_in_the_middle\n",
            "Installing collected packages: lost_in_the_middle\n",
            "  Attempting uninstall: lost_in_the_middle\n",
            "    Found existing installation: lost_in_the_middle 0.0.0\n",
            "    Uninstalling lost_in_the_middle-0.0.0:\n",
            "      Successfully uninstalled lost_in_the_middle-0.0.0\n",
            "Successfully installed lost_in_the_middle-0.0.0\n",
            "Requirement already satisfied: llmlingua in /usr/local/lib/python3.10/dist-packages (0.2.2)\n",
            "Requirement already satisfied: transformers>=4.26.0 in /usr/local/lib/python3.10/dist-packages (from llmlingua) (4.44.2)\n",
            "Requirement already satisfied: accelerate in /usr/local/lib/python3.10/dist-packages (from llmlingua) (0.34.2)\n",
            "Requirement already satisfied: torch in /usr/local/lib/python3.10/dist-packages (from llmlingua) (2.5.0+cu121)\n",
            "Requirement already satisfied: tiktoken in /usr/local/lib/python3.10/dist-packages (from llmlingua) (0.8.0)\n",
            "Requirement already satisfied: nltk in /usr/local/lib/python3.10/dist-packages (from llmlingua) (3.8.1)\n",
            "Requirement already satisfied: numpy in /usr/local/lib/python3.10/dist-packages (from llmlingua) (1.26.4)\n",
            "Requirement already satisfied: filelock in /usr/local/lib/python3.10/dist-packages (from transformers>=4.26.0->llmlingua) (3.16.1)\n",
            "Requirement already satisfied: huggingface-hub<1.0,>=0.23.2 in /usr/local/lib/python3.10/dist-packages (from transformers>=4.26.0->llmlingua) (0.24.7)\n",
            "Requirement already satisfied: packaging>=20.0 in /usr/local/lib/python3.10/dist-packages (from transformers>=4.26.0->llmlingua) (24.1)\n",
            "Requirement already satisfied: pyyaml>=5.1 in /usr/local/lib/python3.10/dist-packages (from transformers>=4.26.0->llmlingua) (6.0.2)\n",
            "Requirement already satisfied: regex!=2019.12.17 in /usr/local/lib/python3.10/dist-packages (from transformers>=4.26.0->llmlingua) (2024.9.11)\n",
            "Requirement already satisfied: requests in /usr/local/lib/python3.10/dist-packages (from transformers>=4.26.0->llmlingua) (2.32.3)\n",
            "Requirement already satisfied: safetensors>=0.4.1 in /usr/local/lib/python3.10/dist-packages (from transformers>=4.26.0->llmlingua) (0.4.5)\n",
            "Requirement already satisfied: tokenizers<0.20,>=0.19 in /usr/local/lib/python3.10/dist-packages (from transformers>=4.26.0->llmlingua) (0.19.1)\n",
            "Requirement already satisfied: tqdm>=4.27 in /usr/local/lib/python3.10/dist-packages (from transformers>=4.26.0->llmlingua) (4.66.6)\n",
            "Requirement already satisfied: psutil in /usr/local/lib/python3.10/dist-packages (from accelerate->llmlingua) (5.9.5)\n",
            "Requirement already satisfied: typing-extensions>=4.8.0 in /usr/local/lib/python3.10/dist-packages (from torch->llmlingua) (4.12.2)\n",
            "Requirement already satisfied: networkx in /usr/local/lib/python3.10/dist-packages (from torch->llmlingua) (3.4.2)\n",
            "Requirement already satisfied: jinja2 in /usr/local/lib/python3.10/dist-packages (from torch->llmlingua) (3.1.4)\n",
            "Requirement already satisfied: fsspec in /usr/local/lib/python3.10/dist-packages (from torch->llmlingua) (2024.10.0)\n",
            "Requirement already satisfied: sympy==1.13.1 in /usr/local/lib/python3.10/dist-packages (from torch->llmlingua) (1.13.1)\n",
            "Requirement already satisfied: mpmath<1.4,>=1.1.0 in /usr/local/lib/python3.10/dist-packages (from sympy==1.13.1->torch->llmlingua) (1.3.0)\n",
            "Requirement already satisfied: click in /usr/local/lib/python3.10/dist-packages (from nltk->llmlingua) (8.1.7)\n",
            "Requirement already satisfied: joblib in /usr/local/lib/python3.10/dist-packages (from nltk->llmlingua) (1.4.2)\n",
            "Requirement already satisfied: charset-normalizer<4,>=2 in /usr/local/lib/python3.10/dist-packages (from requests->transformers>=4.26.0->llmlingua) (3.4.0)\n",
            "Requirement already satisfied: idna<4,>=2.5 in /usr/local/lib/python3.10/dist-packages (from requests->transformers>=4.26.0->llmlingua) (3.10)\n",
            "Requirement already satisfied: urllib3<3,>=1.21.1 in /usr/local/lib/python3.10/dist-packages (from requests->transformers>=4.26.0->llmlingua) (2.2.3)\n",
            "Requirement already satisfied: certifi>=2017.4.17 in /usr/local/lib/python3.10/dist-packages (from requests->transformers>=4.26.0->llmlingua) (2024.8.30)\n",
            "Requirement already satisfied: MarkupSafe>=2.0 in /usr/local/lib/python3.10/dist-packages (from jinja2->torch->llmlingua) (3.0.2)\n"
          ]
        }
      ],
      "source": [
        "# Install dependency.\n",
        "## Lost in the middle\n",
        "!git clone https://github.com/nelson-liu/lost-in-the-middle\n",
        "!cd lost-in-the-middle && echo \"xopen\" > requirements.txt && pip install -e .\n",
        "## LLMLingu\n",
        "!pip install llmlingua\n",
        "!pip install openai==0.28"
      ]
    },
    {
      "cell_type": "code",
      "execution_count": 2,
      "id": "cbbbf3de-a9d6-46cf-afab-dcb72a6154ec",
      "metadata": {
        "id": "cbbbf3de-a9d6-46cf-afab-dcb72a6154ec"
      },
      "outputs": [],
      "source": [
        "# Using the OAI\n",
        "import openai\n",
        "\n",
        "openai.api_key = \"sk-O9xzSAQ4mKSeWnH3Ae50388dC08548239e80E591668168Ac\""
      ]
    },
    {
      "cell_type": "code",
      "execution_count": 3,
      "id": "46506810-8565-43da-984b-d862c56b49c2",
      "metadata": {
        "id": "46506810-8565-43da-984b-d862c56b49c2"
      },
      "outputs": [],
      "source": [
        "# or Using the AOAI\n",
        "import openai\n",
        "\n",
        "openai.api_key = \"sk-O9xzSAQ4mKSeWnH3Ae50388dC08548239e80E591668168Ac\"\n",
        "openai.api_base = \"https://api.gpt.ge/v1\""
      ]
    },
    {
      "cell_type": "markdown",
      "id": "f8676ffa-5117-44dc-9742-bb9ab1d56e0c",
      "metadata": {
        "id": "f8676ffa-5117-44dc-9742-bb9ab1d56e0c"
      },
      "source": [
        "### Setup Data"
      ]
    },
    {
      "cell_type": "code",
      "execution_count": 4,
      "id": "bb349566-83d8-44ac-a683-b67ed9ddf7a6",
      "metadata": {
        "colab": {
          "base_uri": "https://localhost:8080/"
        },
        "id": "bb349566-83d8-44ac-a683-b67ed9ddf7a6",
        "outputId": "5009b550-da0f-433c-dd12-2158c88579bd"
      },
      "outputs": [
        {
          "output_type": "stream",
          "name": "stderr",
          "text": [
            "100%|██████████| 2655/2655 [00:02<00:00, 1127.98it/s]\n"
          ]
        }
      ],
      "source": [
        "import json\n",
        "from xopen import xopen\n",
        "from copy import deepcopy\n",
        "from tqdm import tqdm\n",
        "from lost_in_the_middle.prompting import (\n",
        "    Document,\n",
        "    get_qa_prompt,\n",
        ")\n",
        "\n",
        "datasets = []\n",
        "path = \"./lost-in-the-middle/qa_data/20_total_documents/nq-open-20_total_documents_gold_at_9.jsonl.gz\"\n",
        "with xopen(path) as f:\n",
        "    for ii, jj in tqdm(enumerate(f), total=2655):\n",
        "        input_example = json.loads(jj)\n",
        "        question = input_example[\"question\"]\n",
        "        documents = []\n",
        "        for ctx in deepcopy(input_example[\"ctxs\"]):\n",
        "            documents.append(Document.from_dict(ctx))\n",
        "\n",
        "        prompt = get_qa_prompt(\n",
        "            question,\n",
        "            documents,\n",
        "            mention_random_ordering=False,\n",
        "            query_aware_contextualization=False,\n",
        "        )\n",
        "\n",
        "        c = prompt.split(\"\\n\\n\")\n",
        "        instruction, question = c[0], c[-1]\n",
        "        demonstration = \"\\n\".join(c[1:-1])\n",
        "        datasets.append(\n",
        "            {\n",
        "                \"id\": ii,\n",
        "                \"instruction\": instruction,\n",
        "                \"demonstration\": demonstration,\n",
        "                \"question\": question,\n",
        "                \"answer\": input_example[\"answers\"],\n",
        "            }\n",
        "        )"
      ]
    },
    {
      "cell_type": "code",
      "execution_count": 5,
      "id": "cc17bbc5-86cb-4d15-a730-955af85a10b2",
      "metadata": {
        "id": "cc17bbc5-86cb-4d15-a730-955af85a10b2"
      },
      "outputs": [],
      "source": [
        "# select an example from NaturalQuestions\n",
        "instruction, demonstration_str, question, answer = [\n",
        "    datasets[23][key] for key in [\"instruction\", \"demonstration\", \"question\", \"answer\"]\n",
        "]"
      ]
    },
    {
      "cell_type": "code",
      "execution_count": 12,
      "id": "58718a19-cc4e-4002-a92a-58ea3de9c9d0",
      "metadata": {
        "colab": {
          "base_uri": "https://localhost:8080/"
        },
        "id": "58718a19-cc4e-4002-a92a-58ea3de9c9d0",
        "outputId": "2de6693d-9f43-4124-b511-6533f101407b"
      },
      "outputs": [
        {
          "output_type": "execute_result",
          "data": {
            "text/plain": [
              "('Document [1](Title: OPEC) of \"the top 100 most influential people in the shipping industry\". However, the influence of OPEC on international trade is periodically challenged by the expansion of non-OPEC energy sources, and by the recurring temptation for individual OPEC countries to exceed production targets and pursue conflicting self-interests. As of June 2018, OPEC has 15 member countries: six in the Middle East (Western Asia), seven in Africa, and two in South America. According to the U.S. Energy Information Administration (EIA), OPEC\\'s combined rate of oil production (including gas condensate) represented 44 percent of the world\\'s total in 2016, and OPEC accounted for\\nDocument [2](Title: OPEC) his African neighbors Angola and Sudan to join, and Angola did in 2007, followed by Equatorial Guinea in 2017. Since the 1980s, representatives from Egypt, Mexico, Norway, Oman, Russia, and other oil-exporting nations have attended many OPEC meetings as observers, as an informal mechanism for coordinating policies. In October 1973, the Organization of Arab Petroleum Exporting Countries (OAPEC, consisting of the Arab majority of OPEC plus Egypt and Syria) declared significant production cuts and an oil embargo against the United States and other industrialized nations that supported Israel in the Yom Kippur War. A previous embargo attempt was largely ineffective\\nDocument [3](Title: OPEC) 81.5 percent of the world\\'s \"proven\" oil reserves, including 48 percent from just the six Middle Eastern members:. Approval of a new member country requires agreement by three-quarters of OPEC\\'s existing members, including all five of the founders. In October 2015, Sudan formally submitted an application to join, but it is not yet a member. Qatar intends to leave OPEC on 1 January 2019. For countries that export petroleum at relatively low volume, their limited negotiating power as OPEC members would not necessarily justify the burdens imposed by OPEC production quotas and membership costs. Ecuador withdrew from OPEC in December\\nDocument [4](Title: OPEC) OPEC The Organisation of the Petroleum Exporting Countries (OPEC, ) is an intergovernmental organisation of nations, founded in 1960 in Baghdad by the first five members (Iran, Iraq, Kuwait, Saudi Arabia, and Venezuela), and headquartered since 1965 in Vienna, Austria. the 15 countries accounted for an estimated 44 percent of global oil production and 81.5 percent of the world\\'s \"proven\" oil reserves, giving OPEC a major influence on global oil prices that were previously determined by the so called \"Seven Sisters” grouping of multinational oil companies. The stated mission of the organisation is to \"coordinate and unify the petroleum policies\\nDocument [5](Title: OPEC) from 1 January 2019.. By continent, two are South American, seven African, and six are Asian (Middle East). Two-thirds of OPEC\\'s oil production and reserves are in its six Middle-Eastern countries that surround the oil-rich Persian Gulf. The formation of OPEC marked a turning point toward national sovereignty over natural resources, and OPEC decisions have come to play a prominent role in the global oil market and international relations. The effect can be particularly strong when wars or civil disorders lead to extended interruptions in supply. In the 1970s, restrictions in oil production led to a dramatic rise in oil\\nDocument [6](Title: Price of oil) lacking in tidewater access—such as Western Canadian Select—are less expensive than lighter, sweeter oil—such as WTI. In 1960 the Organization of the Petroleum Exporting Countries (OPEC) was founded in Baghdad, Iraq by its first five members —Iran, Iraq, Kuwait, Saudi Arabia and Venezuela—, with Qatar and Libya joining immediately, followed by United Arab Emirates, Algeria, Nigeria, Ecuador and Gabon after a decade. The goal of these countries was to increase its influence in the world oil market, then dominated by a cartel known as the \"Seven Sisters\", five of which were headquartered in the United States. These companies had been\\nDocument [7](Title: OPEC) of its member countries and ensure the stabilization of oil markets, in order to secure an efficient, economic and regular supply of petroleum to consumers, a steady income to producers, and a fair return on capital for those investing in the petroleum industry.\" The organization is also a significant provider of information about the international oil market. Algeria, Angola, Ecuador, Equatorial Guinea, Gabon, Iran, Iraq, Kuwait, Libya, Nigeria, Qatar, the Republic of the Congo, Saudi Arabia (the de facto leader), United Arab Emirates, and Venezuela. Indonesia is a former member, and Qatar will no longer be a member of OPEC\\nDocument [8](Title: OPEC) a neutral location, and so the organization chose Geneva, Switzerland. On 1 September 1965, OPEC moved to Vienna, Austria, after Switzerland declined to extend diplomatic privileges. During 1961–1975, the five founding nations were joined by Qatar (1961), Indonesia (1962–2008, rejoined 2014-2016), Libya (1962), United Arab Emirates (originally just the Emirate of Abu Dhabi, 1967), Algeria (1969), Nigeria (1971), Ecuador (1973–1992, rejoined 2007), and Gabon (1975–1994, rejoined 2016). By the early 1970s, OPEC\\'s membership accounted for more than half of worldwide oil production. Indicating that OPEC is not averse to further expansion, Mohammed Barkindo, OPEC\\'s Acting Secretary General in 2006, urged\\nDocument [9](Title: OPEC) OPEC lost its two newest members, who had joined in the mid-1970s. Ecuador withdrew in December 1992, because it was unwilling to pay the annual US$2 million membership fee and felt that it needed to produce more oil than it was allowed under the OPEC quota, although it rejoined in October 2007. Similar concerns prompted Gabon to suspend membership in January 1995; it rejoined in July 2016. Iraq has remained a member of OPEC since the organization\\'s founding, but Iraqi production was not a part of OPEC quota agreements from 1998 to 2016, due to the country\\'s daunting political difficulties.\\nDocument [10](Title: OPEC) Organization of the Petroleum Exporting Countries (OPEC, /ˈoʊpɛk/ OH-pek, or OPEP in several other languages) is an intergovernmental organization of 14 nations as of February 2018, founded in 1960 in Baghdad by the first five members (Iran, Iraq, Kuwait, Saudi Arabia, and Venezuela), and headquartered since 1965 in Vienna, Austria. As of 2016, the 14 countries accounted for an estimated 44 percent of global oil production and 73 percent of the world\\'s \"proven\" oil reserves, giving OPEC a major influence on global oil prices that were previously determined by American-dominated multinational oil companies.\\nDocument [11](Title: History of the Venezuelan oil industry) the OPEC member countries was to work together in order to secure and stabilize international oil prices to ensure their interests as oil producing nations. This was managed largely via maintaining export quotas that helped prevent the overproduction of oil on an international scale. In the early 1970s, oil producing countries of the Persian Gulf began negotiations with oil companies in attempt to increase their ownership participation. In 1972 they rapidly obtained a 25 percent participation, and less than a year later they revised those agreements to obtain up to 60 percent participation in the ownership of the companies. By\\nDocument [12](Title: 1973 oil crisis) In 1963, the Seven Sisters controlled 86% of the oil produced by OPEC countries, but by 1970 the rise of \"independent oil companies\" had decreased their share to 77%. The entry of three new oil producers—Algeria, Libya and Nigeria—meant that by 1970 eighty-one oil companies were doing business in the Middle East. In the early 1960s Libya, Indonesia and Qatar joined OPEC. OPEC was generally regarded as ineffective until political turbulence in Libya and Iraq strengthened their position in 1970. Additionally, increasing Soviet influence provided oil producing countries with alternative means of transporting oil to markets. Under the Tehran Price\\nDocument [13](Title: OPEC) disruption-ridden members Libya and Nigeria) covered the first half of 2017 – alongside promised reductions from Russia and ten other non-members, offset by expected increases in the US shale sector, Libya, Nigeria, spare capacity, and surging late-2016 OPEC production before the cuts took effect. Indonesia announced another \"temporary suspension\" of its OPEC membership, rather than accepting the organization\\'s requested 5 percent production cut. Prices fluctuated around US$50/bbl, and OPEC in May 2017 decided to extend the new quotas through March 2018, with the world waiting to see if and how the oil inventory glut might be fully siphoned-off by then.\\nDocument [14](Title: OPEC) suspension\" of its membership at year-end when OPEC requested a 5 percent production cut. Some commentators consider that the United States was a de facto member of OPEC during its formal occupation of Iraq, due to its leadership of the Coalition Provisional Authority in 2003–2004. But this is not borne out by the minutes of OPEC meetings, as no US representative attended in an official capacity. Since the 1980s, representatives from Egypt, Mexico, Norway, Oman, Russia, and other oil-exporting nations have attended many OPEC meetings as observers. This arrangement serves as an informal mechanism for coordinating policies. The OPEC Conference\\nDocument [15](Title: OPEC) the end of that year, having become a net importer of oil and being unable to meet its production quota. A statement released by OPEC on 10 September 2008 confirmed Indonesia\\'s withdrawal, noting that OPEC \"regretfully accepted the wish of Indonesia to suspend its full membership in the organization, and recorded its hope that the country would be in a position to rejoin the organization in the not-too-distant future.\" The differing economic needs of OPEC member states often affect the internal debates behind OPEC production quotas. Poorer members have pushed for production cuts from fellow members, to increase the price\\nDocument [16](Title: OPEC) disruptions in countries like Libya and Nigeria, was and that this number would increase to a peak in 2017 of . By November 2015, the IEA changed its assessment \"with OPEC\\'s spare production buffer stretched thin, as Saudi Arabia – which holds the lion\\'s share of excess capacity – and its [Persian] Gulf neighbours pump at near-record rates.\" In 1949, Venezuela and Iran took the earliest steps in the direction of OPEC, by inviting Iraq, Kuwait and Saudi Arabia to improve communication among petroleum-exporting nations as the world recovered from World War II. At the time, some of the world\\'s\\nDocument [17](Title: Big Oil) gas reserves. Conversely, 88% of global oil and gas reserves are controlled by the OPEC cartel and state-owned oil companies, primarily located in the Middle East. A trend of increasing influence of the OPEC cartel, state-owned oil companies in emerging-market economies is shown and the \"Financial Times\" has used the label \"The New Seven Sisters\" to refer to a group of what it argues are the most influential national oil and gas companies based in countries outside of the OECD, namely CNPC \"(China)\", Gazprom \"(Russia)\", National Iranian Oil Company \"(Iran)\", Petrobras \"(Brazil)\", PDVSA \"(Venezuela)\", Petronas \"(Malaysia)\", Saudi Aramco \"(Saudi Arabia)\".\\nDocument [18](Title: OPEC) 1992, because it was unwilling to pay the annual US$2 million membership fee and felt that it needed to produce more oil than it was allowed under its OPEC quota at the time, although it rejoined in October 2007. Similar concerns prompted Gabon to suspend membership in January 1995; it rejoined in July 2016. In May 2008, Indonesia announced that it would leave OPEC when its membership expired at the end of that year, having become a net importer of oil and being unable to meet its production quota. It rejoined the organization in January 2016, but announced another \"temporary\\nDocument [19](Title: Peak oil) for political reasons (during periods of no substantial discoveries), over 70 nations also follow a practice of not reducing their reserves to account for yearly production. Analysts have suggested that OPEC member nations have economic incentives to exaggerate their reserves, as the OPEC quota system allows greater output for countries with greater reserves. Kuwait, for example, was reported in the January 2006 issue of \"Petroleum Intelligence Weekly\" to have only in reserve, of which only 24 were fully proven. This report was based on the leak of a confidential document from Kuwait and has not been formally denied by the\\nDocument [20](Title: OPEC Fund for International Development) development institutions, including the International Monetary Fund (IMF) Trust Fund and the International Fund for Agricultural Development (IFAD). As a result of its successful performance, member countries decided in 1980 to convert the temporary facility into a permanent legal entity called the OPEC Fund for International Development; it became a permanent international development agency in May 1980. OFID has 13 member countries: Algeria, Ecuador, Gabon, Indonesia, Iran, Iraq, Kuwait, Libya, Nigeria, Qatar, Saudi Arabia, United Arab Emirates and Venezuela. Ecuador reactivated its membership in June 2014 after a 22-year absence. OFID provides financial assistance in a number of ways, with',\n",
              " ['14'])"
            ]
          },
          "metadata": {},
          "execution_count": 12
        }
      ],
      "source": [
        "# Ground-truth Answer\n",
        "demonstration_str,answer"
      ]
    },
    {
      "cell_type": "markdown",
      "id": "ba1c6d52-dc87-434c-a41c-0bbc8a286504",
      "metadata": {
        "id": "ba1c6d52-dc87-434c-a41c-0bbc8a286504"
      },
      "source": [
        "### The response of Original prompt (Error)"
      ]
    },
    {
      "cell_type": "code",
      "execution_count": 14,
      "id": "3d441f10-c5c7-4d45-b09a-717e536b36bf",
      "metadata": {
        "colab": {
          "base_uri": "https://localhost:8080/",
          "height": 971
        },
        "id": "3d441f10-c5c7-4d45-b09a-717e536b36bf",
        "outputId": "46d56325-64a1-49b4-de08-d0f6f0c254f4"
      },
      "outputs": [
        {
          "output_type": "stream",
          "name": "stdout",
          "text": [
            "Collecting openai==0.28\n",
            "  Downloading openai-0.28.0-py3-none-any.whl.metadata (13 kB)\n",
            "Requirement already satisfied: requests>=2.20 in /usr/local/lib/python3.10/dist-packages (from openai==0.28) (2.32.3)\n",
            "Requirement already satisfied: tqdm in /usr/local/lib/python3.10/dist-packages (from openai==0.28) (4.66.6)\n",
            "Requirement already satisfied: aiohttp in /usr/local/lib/python3.10/dist-packages (from openai==0.28) (3.10.10)\n",
            "Requirement already satisfied: charset-normalizer<4,>=2 in /usr/local/lib/python3.10/dist-packages (from requests>=2.20->openai==0.28) (3.4.0)\n",
            "Requirement already satisfied: idna<4,>=2.5 in /usr/local/lib/python3.10/dist-packages (from requests>=2.20->openai==0.28) (3.10)\n",
            "Requirement already satisfied: urllib3<3,>=1.21.1 in /usr/local/lib/python3.10/dist-packages (from requests>=2.20->openai==0.28) (2.2.3)\n",
            "Requirement already satisfied: certifi>=2017.4.17 in /usr/local/lib/python3.10/dist-packages (from requests>=2.20->openai==0.28) (2024.8.30)\n",
            "Requirement already satisfied: aiohappyeyeballs>=2.3.0 in /usr/local/lib/python3.10/dist-packages (from aiohttp->openai==0.28) (2.4.3)\n",
            "Requirement already satisfied: aiosignal>=1.1.2 in /usr/local/lib/python3.10/dist-packages (from aiohttp->openai==0.28) (1.3.1)\n",
            "Requirement already satisfied: attrs>=17.3.0 in /usr/local/lib/python3.10/dist-packages (from aiohttp->openai==0.28) (24.2.0)\n",
            "Requirement already satisfied: frozenlist>=1.1.1 in /usr/local/lib/python3.10/dist-packages (from aiohttp->openai==0.28) (1.5.0)\n",
            "Requirement already satisfied: multidict<7.0,>=4.5 in /usr/local/lib/python3.10/dist-packages (from aiohttp->openai==0.28) (6.1.0)\n",
            "Requirement already satisfied: yarl<2.0,>=1.12.0 in /usr/local/lib/python3.10/dist-packages (from aiohttp->openai==0.28) (1.17.0)\n",
            "Requirement already satisfied: async-timeout<5.0,>=4.0 in /usr/local/lib/python3.10/dist-packages (from aiohttp->openai==0.28) (4.0.3)\n",
            "Requirement already satisfied: typing-extensions>=4.1.0 in /usr/local/lib/python3.10/dist-packages (from multidict<7.0,>=4.5->aiohttp->openai==0.28) (4.12.2)\n",
            "Requirement already satisfied: propcache>=0.2.0 in /usr/local/lib/python3.10/dist-packages (from yarl<2.0,>=1.12.0->aiohttp->openai==0.28) (0.2.0)\n",
            "Downloading openai-0.28.0-py3-none-any.whl (76 kB)\n",
            "\u001b[2K   \u001b[90m━━━━━━━━━━━━━━━━━━━━━━━━━━━━━━━━━━━━━━━━\u001b[0m \u001b[32m76.5/76.5 kB\u001b[0m \u001b[31m1.8 MB/s\u001b[0m eta \u001b[36m0:00:00\u001b[0m\n",
            "\u001b[?25hInstalling collected packages: openai\n",
            "  Attempting uninstall: openai\n",
            "    Found existing installation: openai 1.52.2\n",
            "    Uninstalling openai-1.52.2:\n",
            "      Successfully uninstalled openai-1.52.2\n",
            "Successfully installed openai-0.28.0\n"
          ]
        },
        {
          "output_type": "display_data",
          "data": {
            "application/vnd.colab-display-data+json": {
              "pip_warning": {
                "packages": [
                  "openai"
                ]
              },
              "id": "ca56b0773beb4b2c98c11b061d41905b"
            }
          },
          "metadata": {}
        },
        {
          "output_type": "error",
          "ename": "APIRemovedInV1",
          "evalue": "\n\nYou tried to access openai.ChatCompletion, but this is no longer supported in openai>=1.0.0 - see the README at https://github.com/openai/openai-python for the API.\n\nYou can run `openai migrate` to automatically upgrade your codebase to use the 1.0.0 interface. \n\nAlternatively, you can pin your installation to the old version, e.g. `pip install openai==0.28`\n\nA detailed migration guide is available here: https://github.com/openai/openai-python/discussions/742\n",
          "traceback": [
            "\u001b[0;31m---------------------------------------------------------------------------\u001b[0m",
            "\u001b[0;31mAPIRemovedInV1\u001b[0m                            Traceback (most recent call last)",
            "\u001b[0;32m<ipython-input-14-71055bf3de73>\u001b[0m in \u001b[0;36m<cell line: 17>\u001b[0;34m()\u001b[0m\n\u001b[1;32m     15\u001b[0m     \u001b[0;34m\"stream\"\u001b[0m\u001b[0;34m:\u001b[0m \u001b[0;32mFalse\u001b[0m\u001b[0;34m,\u001b[0m\u001b[0;34m\u001b[0m\u001b[0;34m\u001b[0m\u001b[0m\n\u001b[1;32m     16\u001b[0m }\n\u001b[0;32m---> 17\u001b[0;31m response = openai.ChatCompletion.create(\n\u001b[0m\u001b[1;32m     18\u001b[0m     \u001b[0;34m\"gpt-3.5-turbo\"\u001b[0m\u001b[0;34m,\u001b[0m\u001b[0;34m\u001b[0m\u001b[0;34m\u001b[0m\u001b[0m\n\u001b[1;32m     19\u001b[0m     \u001b[0;34m**\u001b[0m\u001b[0mrequest_data\u001b[0m\u001b[0;34m,\u001b[0m\u001b[0;34m\u001b[0m\u001b[0;34m\u001b[0m\u001b[0m\n",
            "\u001b[0;32m/usr/local/lib/python3.10/dist-packages/openai/lib/_old_api.py\u001b[0m in \u001b[0;36m__call__\u001b[0;34m(self, *_args, **_kwargs)\u001b[0m\n",
            "\u001b[0;31mAPIRemovedInV1\u001b[0m: \n\nYou tried to access openai.ChatCompletion, but this is no longer supported in openai>=1.0.0 - see the README at https://github.com/openai/openai-python for the API.\n\nYou can run `openai migrate` to automatically upgrade your codebase to use the 1.0.0 interface. \n\nAlternatively, you can pin your installation to the old version, e.g. `pip install openai==0.28`\n\nA detailed migration guide is available here: https://github.com/openai/openai-python/discussions/742\n"
          ]
        }
      ],
      "source": [
        "# The response from original prompt, error\n",
        "\n",
        "prompt = \"\\n\\n\".join([instruction, demonstration_str, question])\n",
        "\n",
        "message = [\n",
        "    {\"role\": \"user\", \"content\": prompt},\n",
        "]\n",
        "\n",
        "request_data = {\n",
        "    \"messages\": message,\n",
        "    \"max_tokens\": 100,\n",
        "    \"temperature\": 0,\n",
        "    \"top_p\": 1,\n",
        "    \"n\": 1,\n",
        "    \"stream\": False,\n",
        "}\n",
        "response = openai.ChatCompletion.create(\n",
        "    \"gpt-3.5-turbo\",\n",
        "    **request_data,\n",
        ")\n",
        "print(json.dumps(response, indent=4))"
      ]
    },
    {
      "cell_type": "markdown",
      "id": "9aa90492-8ad1-4a89-85c5-26b8472f1ff0",
      "metadata": {
        "id": "9aa90492-8ad1-4a89-85c5-26b8472f1ff0"
      },
      "source": [
        "### The response of Compressed Prompt (Correct in 10x Compression)"
      ]
    },
    {
      "cell_type": "code",
      "execution_count": null,
      "id": "fa638dec-c9ec-4dce-9dac-d768145de714",
      "metadata": {
        "colab": {
          "referenced_widgets": [
            "0cbd44bf14024a3291cce2187b1ec363"
          ]
        },
        "id": "fa638dec-c9ec-4dce-9dac-d768145de714",
        "outputId": "5121b616-85b0-4639-b06b-d87dca06a304"
      },
      "outputs": [
        {
          "data": {
            "application/vnd.jupyter.widget-view+json": {
              "model_id": "0cbd44bf14024a3291cce2187b1ec363",
              "version_major": 2,
              "version_minor": 0
            },
            "text/plain": [
              "Loading checkpoint shards:   0%|          | 0/2 [00:00<?, ?it/s]"
            ]
          },
          "metadata": {},
          "output_type": "display_data"
        },
        {
          "name": "stderr",
          "output_type": "stream",
          "text": [
            "/home/hjiang/.local/lib/python3.9/site-packages/transformers/generation/configuration_utils.py:362: UserWarning: `do_sample` is set to `False`. However, `temperature` is set to `0.9` -- this flag is only used in sample-based generation modes. You should set `do_sample=True` or unset `temperature`. This was detected when initializing the generation config instance, which means the corresponding file may hold incorrect parameterization and should be fixed.\n",
            "  warnings.warn(\n",
            "/home/hjiang/.local/lib/python3.9/site-packages/transformers/generation/configuration_utils.py:367: UserWarning: `do_sample` is set to `False`. However, `top_p` is set to `0.6` -- this flag is only used in sample-based generation modes. You should set `do_sample=True` or unset `top_p`. This was detected when initializing the generation config instance, which means the corresponding file may hold incorrect parameterization and should be fixed.\n",
            "  warnings.warn(\n"
          ]
        }
      ],
      "source": [
        "# Setup LLMLingua\n",
        "from llmlingua import PromptCompressor\n",
        "\n",
        "llm_lingua = PromptCompressor()"
      ]
    },
    {
      "cell_type": "code",
      "execution_count": null,
      "id": "5f61a186-6641-4118-ad04-5245a53b6d79",
      "metadata": {
        "id": "5f61a186-6641-4118-ad04-5245a53b6d79",
        "outputId": "38721b62-3b0c-4bf6-d9a1-e9a3d1c992ae"
      },
      "outputs": [
        {
          "name": "stdout",
          "output_type": "stream",
          "text": [
            "{\n",
            "    \"compressed_prompt\": \"Write a high-quality answer for the given question using only the provided search results (some of which might be irrelevant).\\n\\nDocument [10](Title: OPEC Organization of the Petroleum Exporting Countries (OPEC, /\\u02c8o\\u028ap\\u025bk/ OH-pek, or OPEP in several other languages) is an intergovernmental organization of 14 nations as of February 2018, founded in 1960 in Baghdad by the first five members (Iran, Iraq, Kuwait, Saudi Arabia, and Venezuela), and headquartered since 1965 in Vienna, Austria. As of 2016, the 14 countries accounted for an estimated 44 percent of global oil production and 73 percent of the world's \\\"proven\\\" oil reserves, giving OPEC a major influence on global oil prices that were previously determined by American-dominated multinational oil companies.\\n\\nDocument1](Title: OPE OPE lost its newest members, who had in mid-1970s E withd in December 192, because it was unwilling to pay annual US$2 million membership fee felt that it needed produce more oil it was allowed under the OPEC quota, although it rejoined October 200. concerns prompted Gabon suspend membership in January 199; it rejoined in July 201. Ira remained a member of OPEC since the organization's found but Iraqi production was not part of OPEC quota agre from 198 to 26 due to the country'sun political.\\nDocument [Title OPEruption-den Libia) half of27 alongside promised Russia and ten non offset increases in the shale, Niger, sur late-2016 before the cut effect Indones another \\\"aryension of itsPE membership, rather than accepting organization requested cutuated US$50/l, in 2017 decided to extend newas through March201, the waiting to see and the inventory glut fully siphonoff by1C)\\\" of itsend cut. Some commentators consider that the United States was a de facto member of OPEC during its formal occupation of Iraq, due to its leadership of the Coalition Provisional Authority in 2003\\u20132004. But this is not borne out by the minutes of OPEC meetings, as no US representative attended in an official capacity. Since the 1980s, representatives from Egypt, Mexico, Norway, Oman, Russia, and other oil-exporting nations have attended many OPEC meetings as observers. This arrangement serves as an informal mechanism for coordinating policies. The OPEC Conference\\n\\nQuestion: how many countries are a part of opec\\nAnswer:\",\n",
            "    \"origin_tokens\": 2890,\n",
            "    \"compressed_tokens\": 520,\n",
            "    \"ratio\": \"5.6x\",\n",
            "    \"saving\": \", Saving $0.1 in GPT-4.\"\n",
            "}\n",
            "Response: {\n",
            "  \"id\": \"chatcmpl-8FHk8at6284Ur8hbKA41NBqRbeNSc\",\n",
            "  \"object\": \"chat.completion\",\n",
            "  \"created\": 1698653816,\n",
            "  \"model\": \"gpt-35-turbo\",\n",
            "  \"choices\": [\n",
            "    {\n",
            "      \"index\": 0,\n",
            "      \"finish_reason\": \"stop\",\n",
            "      \"message\": {\n",
            "        \"role\": \"assistant\",\n",
            "        \"content\": \"As of February 2018, there are 14 countries that are part of OPEC.\"\n",
            "      }\n",
            "    }\n",
            "  ],\n",
            "  \"usage\": {\n",
            "    \"prompt_tokens\": 527,\n",
            "    \"completion_tokens\": 19,\n",
            "    \"total_tokens\": 546\n",
            "  }\n",
            "}\n"
          ]
        }
      ],
      "source": [
        "# 6x Compression\n",
        "compressed_prompt = llm_lingua.compress_prompt(\n",
        "    demonstration_str.split(\"\\n\"),\n",
        "    instruction=instruction,\n",
        "    question=question,\n",
        "    target_token=500,\n",
        "    condition_compare=True,\n",
        "    condition_in_question=\"after\",\n",
        "    rank_method=\"longllmlingua\",\n",
        "    use_sentence_level_filter=False,\n",
        "    context_budget=\"+100\",\n",
        "    dynamic_context_compression_ratio=0.4,  # enable dynamic_context_compression_ratio\n",
        "    reorder_context=\"sort\",\n",
        ")\n",
        "message = [\n",
        "    {\"role\": \"user\", \"content\": compressed_prompt[\"compressed_prompt\"]},\n",
        "]\n",
        "\n",
        "request_data = {\n",
        "    \"messages\": message,\n",
        "    \"max_tokens\": 100,\n",
        "    \"temperature\": 0,\n",
        "    \"top_p\": 1,\n",
        "    \"n\": 1,\n",
        "    \"stream\": False,\n",
        "}\n",
        "response = openai.ChatCompletion.create(\n",
        "    \"gpt-3.5-turbo\",\n",
        "    **request_data,\n",
        ")\n",
        "\n",
        "print(json.dumps(compressed_prompt, indent=4))\n",
        "print(\"Response:\", response)"
      ]
    },
    {
      "cell_type": "code",
      "execution_count": null,
      "id": "4328e6c4-63f5-4a24-a459-baaa309f9825",
      "metadata": {
        "id": "4328e6c4-63f5-4a24-a459-baaa309f9825",
        "outputId": "ca851b84-d88b-4ba7-8d90-78a4f415049b"
      },
      "outputs": [
        {
          "name": "stdout",
          "output_type": "stream",
          "text": [
            "{\n",
            "    \"compressed_prompt\": \"Write a high-quality answer for the given question using only the provided search results (some of which might be irrelevant).\\n\\n0Title: OPECization of Petroleum Exporting Count (OPEC, /\\u02c8o\\u028ap\\u025bk OHpekP in other) is an intergovernmental14 nations as February 218 founded in 960 in Baghdad by fiveIran Iraq, Kuwait, Saudi Arab, and Venezuela), headquartered since 965 in, Austria. of the4ed an estimated4 percent of production and 3 percent of the world's \\\"proven\\\" oil res OPEC on global by Americandominatedin companies.\\n\\n5](Title: OPEC) OPEC lost its two newest members, who had joined in the mid-1970s. Ecuador withdrew in December 1992, because it was unwilling to pay the annual US$2 million membership fee and felt that it needed to produce more oil than it was allowed under the OPEC quota, although it rejoined in October 2007. Similar concerns prompted Gabon to suspend membership in January 1995; it rejoined in July 2016. Iraq has remained a member of OPEC since the organization's founding, but Iraqi production was not a part of OPEC quota agreements from 1998 to 2016, due to the country's daunting political difficulties.\\n\\nQuestion: how many countries are a part of opec\\nAnswer:\",\n",
            "    \"origin_tokens\": 2890,\n",
            "    \"compressed_tokens\": 285,\n",
            "    \"ratio\": \"10.1x\",\n",
            "    \"saving\": \", Saving $0.2 in GPT-4.\"\n",
            "}\n",
            "Response: {\n",
            "  \"id\": \"chatcmpl-8FHgqwIufzoXoDTLvh3S3eRVTOLSU\",\n",
            "  \"object\": \"chat.completion\",\n",
            "  \"created\": 1698653612,\n",
            "  \"model\": \"gpt-35-turbo\",\n",
            "  \"choices\": [\n",
            "    {\n",
            "      \"index\": 0,\n",
            "      \"finish_reason\": \"length\",\n",
            "      \"message\": {\n",
            "        \"role\": \"assistant\",\n",
            "        \"content\": \"OPEC, or the Organization of the Petroleum Exporting Countries, is currently composed of 14 member nations. These countries are Iran, Iraq, Kuwait, Saudi Arabia, Venezuela, Algeria, Angola, Congo, Equatorial Guinea, Gabon, Libya, Nigeria, United Arab Emirates, and Ecuador. However, it is important to note that Ecuador temporarily withdrew from OPEC in December 1992 but rejoined in October 2007, while Gabon suspended its membership in January 1995 but\"\n",
            "      }\n",
            "    }\n",
            "  ],\n",
            "  \"usage\": {\n",
            "    \"prompt_tokens\": 292,\n",
            "    \"completion_tokens\": 100,\n",
            "    \"total_tokens\": 392\n",
            "  }\n",
            "}\n"
          ]
        }
      ],
      "source": [
        "# 10x Compression\n",
        "compressed_prompt = llm_lingua.compress_prompt(\n",
        "    demonstration_str.split(\"\\n\"),\n",
        "    instruction=instruction,\n",
        "    question=question,\n",
        "    target_token=100,\n",
        "    condition_compare=True,\n",
        "    condition_in_question=\"after\",\n",
        "    rank_method=\"longllmlingua\",\n",
        "    use_sentence_level_filter=False,\n",
        "    context_budget=\"+100\",\n",
        "    dynamic_context_compression_ratio=0.4,  # enable dynamic_context_compression_ratio\n",
        "    reorder_context=\"sort\",\n",
        ")\n",
        "message = [\n",
        "    {\"role\": \"user\", \"content\": compressed_prompt[\"compressed_prompt\"]},\n",
        "]\n",
        "\n",
        "request_data = {\n",
        "    \"messages\": message,\n",
        "    \"max_tokens\": 100,\n",
        "    \"temperature\": 0,\n",
        "    \"top_p\": 1,\n",
        "    \"n\": 1,\n",
        "    \"stream\": False,\n",
        "}\n",
        "response = openai.ChatCompletion.create(\n",
        "    \"gpt-3.5-turbo\",\n",
        "    **request_data,\n",
        ")\n",
        "\n",
        "print(json.dumps(compressed_prompt, indent=4))\n",
        "print(\"Response:\", response)"
      ]
    }
  ],
  "metadata": {
    "kernelspec": {
      "display_name": "Python 3 (ipykernel)",
      "language": "python",
      "name": "python3"
    },
    "language_info": {
      "codemirror_mode": {
        "name": "ipython",
        "version": 3
      },
      "file_extension": ".py",
      "mimetype": "text/x-python",
      "name": "python",
      "nbconvert_exporter": "python",
      "pygments_lexer": "ipython3",
      "version": "3.9.18"
    },
    "colab": {
      "provenance": []
    }
  },
  "nbformat": 4,
  "nbformat_minor": 5
}